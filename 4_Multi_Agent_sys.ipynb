{
 "cells": [
  {
   "cell_type": "markdown",
   "id": "7ae8fc69",
   "metadata": {},
   "source": [
    "For complex tasks, a single agent can struggle. A task like \"Research the latest AI advancements and write a blog post\" requires multiple skills: searching, reading, synthesizing, and writing. The supervisor pattern addresses this by creating a team of specialized \"worker\" agents managed by one \"supervisor\" agent.\n",
    "\n",
    "<ol><li>Supervisor: A \"project manager\" LLM that breaks down a complex request and delegates sub-tasks to the best worker for the job.</li>\n",
    "\n",
    "<li>Workers: Specialized agents (or even simple, tool-using nodes) that are experts in one area, like searching the web or writing code.</li></ol>\n",
    "\n",
    "**flow is loop**: The supervisor analyzes the state and routes to a worker. The worker completes its task, returns its findings to the state, and the flow returns to the supervisor to decide the next step."
   ]
  },
  {
   "cell_type": "code",
   "execution_count": 64,
   "id": "3d0971da",
   "metadata": {},
   "outputs": [
    {
     "name": "stderr",
     "output_type": "stream",
     "text": [
      "Unexpected argument 'gemini_api_key' provided to ChatGoogleGenerativeAI. Did you mean: 'google_api_key'?\n",
      "c:\\Users\\ujwal\\OneDrive\\Documents\\GitHub\\LangGraph\\venv\\Lib\\site-packages\\IPython\\core\\interactiveshell.py:3699: UserWarning: WARNING! gemini_api_key is not default parameter.\n",
      "                gemini_api_key was transferred to model_kwargs.\n",
      "                Please confirm that gemini_api_key is what you intended.\n",
      "  exec(code_obj, self.user_global_ns, self.user_ns)\n"
     ]
    }
   ],
   "source": [
    "import os\n",
    "from typing import TypedDict, Annotated, List\n",
    "from langchain_core.messages import BaseMessage, HumanMessage, SystemMessage\n",
    "from langgraph.graph import StateGraph, END\n",
    "from langgraph.graph.message import add_messages\n",
    "from langchain_google_genai import ChatGoogleGenerativeAI\n",
    "from langchain_community.tools.tavily_search import TavilySearchResults\n",
    "import json\n",
    "from dotenv import load_dotenv\n",
    "load_dotenv()\n",
    "\n",
    "model = ChatGoogleGenerativeAI(model=\"gemini-2.0-flash\", temperature=0, gemini_api_key=os.getenv(\"GOOGLE_API_KEY\"))\n",
    "tool=TavilySearchResults(max_results=1)\n",
    "\n",
    "class NewsResearcher(TypedDict):\n",
    "    messages:Annotated[List[BaseMessage], add_messages]"
   ]
  },
  {
   "cell_type": "code",
   "execution_count": 65,
   "id": "f868a557",
   "metadata": {},
   "outputs": [],
   "source": [
    "def get_news(state:NewsResearcher):\n",
    "    \"\"\"retrive search results for the given query\"\"\"\n",
    "    query=state['messages'][-1].content\n",
    "    retrieved_docs = tool.invoke({\"query\": query})\n",
    "    docs= \"\\n\\n\".join(str(d) for d in retrieved_docs)\n",
    "    return {\"messages\":[HumanMessage(content=docs, name=\"Retriever\")]}"
   ]
  },
  {
   "cell_type": "code",
   "execution_count": 66,
   "id": "bd00cd1b",
   "metadata": {},
   "outputs": [],
   "source": [
    "def is_relevant(state:NewsResearcher):\n",
    "    \"\"\"assess if the retrieved information is relevant to the query\"\"\"\n",
    "    query=state['messages'][-2].content\n",
    "    retrieved_docs = state['messages'][-1].content\n",
    "    \n",
    "    assess_prompt = f\"\"\"You are a sessment agent who assesses if the inforation is relvent to the users query\n",
    "    query:{query}\n",
    "    docs:{retrieved_docs}\n",
    "    output a json with two keys:\n",
    "    1. 'is_relevant': a boolean indicating if the documents are relevant.\n",
    "    2. 'new_query': a string with a rewritten, more specific search query if and only if the is_revlevant is False\"\"\"\n",
    "    \n",
    "    response = model.invoke([\n",
    "        SystemMessage(content=\"You are a relevance assessor.\"),\n",
    "        HumanMessage(content=assess_prompt)\n",
    "    ])\n",
    "    return {'messages':[HumanMessage(content=response.content, name=\"Assessor\")]}"
   ]
  },
  {
   "cell_type": "code",
   "execution_count": 67,
   "id": "3832d2a5",
   "metadata": {},
   "outputs": [],
   "source": [
    "def ans_generator(state: NewsResearcher):\n",
    "    \"\"\"Generate a final answer based on the user's query and the retrieved documents.\"\"\"\n",
    "    \n",
    "    original_query = state['messages'][0].content\n",
    "   \n",
    "    retrieved_docs = state['messages'][-2].content\n",
    "\n",
    "    prompt = f\"\"\"You are a final answer generator.\n",
    "    Based on the user's query and the provided documents, write a comprehensive answer.\n",
    "\n",
    "    User Query: {original_query}\n",
    "\n",
    "    Retrieved Documents:\n",
    "    {retrieved_docs}\n",
    "    \"\"\"\n",
    "    response = model.invoke(prompt)\n",
    "    \n",
    "    return {\"messages\": [response]}"
   ]
  },
  {
   "cell_type": "code",
   "execution_count": 68,
   "id": "58a36827",
   "metadata": {},
   "outputs": [],
   "source": [
    "def parse_json(response_str: str):\n",
    "    \"\"\"\n",
    "    Removes markdown code fences (e.g. ```json ... ```) and parses the remaining JSON.\n",
    "    \"\"\"\n",
    "    content = response_str.strip()\n",
    "    if content.startswith(\"```\"):\n",
    "        lines = content.splitlines()\n",
    "        # Remove first line if it starts with ```\n",
    "        if lines[0].startswith(\"```\"):\n",
    "            lines = lines[1:]\n",
    "        # Remove last line if it starts with ```\n",
    "        if lines and lines[-1].startswith(\"```\"):\n",
    "            lines = lines[:-1]\n",
    "        content = \"\\n\".join(lines).strip()\n",
    "    return json.loads(content)"
   ]
  },
  {
   "cell_type": "code",
   "execution_count": 69,
   "id": "7c0c5a46",
   "metadata": {},
   "outputs": [],
   "source": [
    "def router(state:NewsResearcher):\n",
    "    \"\"\"Routes based on the relevance assessment.\"\"\"\n",
    "    assessment_message = state['messages'][-1].content\n",
    "    try:\n",
    "        assessment_message = parse_json(assessment_message)\n",
    "        if assessment_message['is_relevant']:\n",
    "            return \"generate\"\n",
    "        else:\n",
    "            new_query = assessment_message['new_query']\n",
    "            add_messages(state['messages'], [HumanMessage(content=new_query)])\n",
    "            return \"retrieve\"\n",
    "    except (json.JSONDecodeError, KeyError):\n",
    "        return \"end\""
   ]
  },
  {
   "cell_type": "code",
   "execution_count": 70,
   "id": "f5e2ad68",
   "metadata": {},
   "outputs": [
    {
     "data": {
      "image/png": "[encoded data removed]",
      "text/plain": [
       "<langgraph.graph.state.CompiledStateGraph object at 0x0000021BC9E559D0>"
      ]
     },
     "execution_count": 70,
     "metadata": {},
     "output_type": "execute_result"
    }
   ],
   "source": [
    "news_graph= StateGraph(NewsResearcher)\n",
    "news_graph.add_node(\"retriever\", get_news)\n",
    "news_graph.add_node(\"assessor\", is_relevant)\n",
    "news_graph.add_node(\"generator\", ans_generator)\n",
    "news_graph.set_entry_point(\"retriever\")\n",
    "\n",
    "news_graph.add_conditional_edges(\n",
    "    \"assessor\",\n",
    "    router,\n",
    "    {\n",
    "        \"generate\": \"generator\",\n",
    "        \"retrieve\": \"retriever\",\n",
    "        \"end\":END\n",
    "    }    \n",
    ")\n",
    "\n",
    "news_graph.add_edge(\"retriever\", \"assessor\")\n",
    "graph=news_graph.compile()\n",
    "graph\n"
   ]
  },
  {
   "cell_type": "code",
   "execution_count": 71,
   "id": "247320d7",
   "metadata": {},
   "outputs": [
    {
     "name": "stdout",
     "output_type": "stream",
     "text": [
      "\n",
      "========================================\n",
      "Current State:\n",
      "{'messages': [HumanMessage(content='What are the latest developments in AI research?', additional_kwargs={}, response_metadata={}, id='508da0a1-3950-4fe0-bfc8-32d04db95e58')]}\n",
      "\n",
      "========================================\n",
      "Current State:\n",
      "{'messages': [HumanMessage(content='What are the latest developments in AI research?', additional_kwargs={}, response_metadata={}, id='508da0a1-3950-4fe0-bfc8-32d04db95e58'), HumanMessage(content=\"{'title': 'Advancements in AI and Machine Learning', 'url': 'https://ep.jhu.edu/news/advancements-in-ai-and-machine-learning/', 'content': 'Today, AI has been seamlessly integrated into everyday life. Advances in ML, natural language processing (NLP), and computer vision have enabled AI to perform ever-more complex tasks such as diagnosing medical conditions, powering autonomous vehicles, and personalizing user experiences in digital platforms.\\\\n\\\\nAs AI’s evolution continues, we can expect it to further revolutionize the world through even greater efficiency and new avenues for technological development. [...] The field of generative AI has seen remarkable progress, particularly with the development of advanced Large Language Models (LLMs). Meta’s recent release of Llama 4 includes models like Scout and Maverick that are designed to handle politically and socially contentious questions more effectively than their predecessors. They demonstrate reduced political bias and can process diverse data types, including text, video, images, and audio. \\\\u200b [...] AI algorithms process vast datasets to provide insights that support strategic planning and resource allocation to streamline decision-making. This allows engineers to focus more on innovation and complex problem-solving.\\\\n\\\\n## Recent Advancements in AI and Machine Learning\\\\n\\\\nThe advancements in AI and ML have exponentially enhanced applications across multiple sectors. Here’s how AI and ML have changed various industries.\\\\n\\\\n### Breakthroughs in Generative AI and Large Language Models', 'score': 0.54695654}\", additional_kwargs={}, response_metadata={}, name='Retriever', id='20b5a0f3-7669-42f0-b672-f6f1fa8bee35')]}\n",
      "\n",
      "========================================\n",
      "Current State:\n",
      "{'messages': [HumanMessage(content='What are the latest developments in AI research?', additional_kwargs={}, response_metadata={}, id='508da0a1-3950-4fe0-bfc8-32d04db95e58'), HumanMessage(content=\"{'title': 'Advancements in AI and Machine Learning', 'url': 'https://ep.jhu.edu/news/advancements-in-ai-and-machine-learning/', 'content': 'Today, AI has been seamlessly integrated into everyday life. Advances in ML, natural language processing (NLP), and computer vision have enabled AI to perform ever-more complex tasks such as diagnosing medical conditions, powering autonomous vehicles, and personalizing user experiences in digital platforms.\\\\n\\\\nAs AI’s evolution continues, we can expect it to further revolutionize the world through even greater efficiency and new avenues for technological development. [...] The field of generative AI has seen remarkable progress, particularly with the development of advanced Large Language Models (LLMs). Meta’s recent release of Llama 4 includes models like Scout and Maverick that are designed to handle politically and socially contentious questions more effectively than their predecessors. They demonstrate reduced political bias and can process diverse data types, including text, video, images, and audio. \\\\u200b [...] AI algorithms process vast datasets to provide insights that support strategic planning and resource allocation to streamline decision-making. This allows engineers to focus more on innovation and complex problem-solving.\\\\n\\\\n## Recent Advancements in AI and Machine Learning\\\\n\\\\nThe advancements in AI and ML have exponentially enhanced applications across multiple sectors. Here’s how AI and ML have changed various industries.\\\\n\\\\n### Breakthroughs in Generative AI and Large Language Models', 'score': 0.54695654}\", additional_kwargs={}, response_metadata={}, name='Retriever', id='20b5a0f3-7669-42f0-b672-f6f1fa8bee35'), HumanMessage(content='```json\\n{\\n    \"is_relevant\": true,\\n    \"new_query\": null\\n}\\n```', additional_kwargs={}, response_metadata={}, name='Assessor', id='0d29a875-3f72-48c9-917d-99b3ac3f2e6e')]}\n",
      "\n",
      "========================================\n",
      "Current State:\n",
      "{'messages': [HumanMessage(content='What are the latest developments in AI research?', additional_kwargs={}, response_metadata={}, id='508da0a1-3950-4fe0-bfc8-32d04db95e58'), HumanMessage(content=\"{'title': 'Advancements in AI and Machine Learning', 'url': 'https://ep.jhu.edu/news/advancements-in-ai-and-machine-learning/', 'content': 'Today, AI has been seamlessly integrated into everyday life. Advances in ML, natural language processing (NLP), and computer vision have enabled AI to perform ever-more complex tasks such as diagnosing medical conditions, powering autonomous vehicles, and personalizing user experiences in digital platforms.\\\\n\\\\nAs AI’s evolution continues, we can expect it to further revolutionize the world through even greater efficiency and new avenues for technological development. [...] The field of generative AI has seen remarkable progress, particularly with the development of advanced Large Language Models (LLMs). Meta’s recent release of Llama 4 includes models like Scout and Maverick that are designed to handle politically and socially contentious questions more effectively than their predecessors. They demonstrate reduced political bias and can process diverse data types, including text, video, images, and audio. \\\\u200b [...] AI algorithms process vast datasets to provide insights that support strategic planning and resource allocation to streamline decision-making. This allows engineers to focus more on innovation and complex problem-solving.\\\\n\\\\n## Recent Advancements in AI and Machine Learning\\\\n\\\\nThe advancements in AI and ML have exponentially enhanced applications across multiple sectors. Here’s how AI and ML have changed various industries.\\\\n\\\\n### Breakthroughs in Generative AI and Large Language Models', 'score': 0.54695654}\", additional_kwargs={}, response_metadata={}, name='Retriever', id='20b5a0f3-7669-42f0-b672-f6f1fa8bee35'), HumanMessage(content='```json\\n{\\n    \"is_relevant\": true,\\n    \"new_query\": null\\n}\\n```', additional_kwargs={}, response_metadata={}, name='Assessor', id='0d29a875-3f72-48c9-917d-99b3ac3f2e6e'), AIMessage(content=\"The latest developments in AI research include advancements in machine learning (ML), natural language processing (NLP), and computer vision, enabling AI to perform complex tasks such as medical diagnoses, powering autonomous vehicles, and personalizing user experiences. A significant area of progress is generative AI, particularly with Large Language Models (LLMs). Meta's release of Llama 4, including models like Scout and Maverick, demonstrates reduced political bias and the ability to process diverse data types like text, video, images, and audio. AI algorithms are also being used to process vast datasets, providing insights for strategic planning and resource allocation, which streamlines decision-making and allows engineers to focus on innovation and complex problem-solving.\", additional_kwargs={}, response_metadata={'prompt_feedback': {'block_reason': 0, 'safety_ratings': []}, 'finish_reason': 'STOP', 'model_name': 'gemini-2.0-flash', 'safety_ratings': []}, id='run--4fca7a80-50bf-4bca-9074-041544d37c5a-0', usage_metadata={'input_tokens': 368, 'output_tokens': 141, 'total_tokens': 509, 'input_token_details': {'cache_read': 0}})]}\n",
      "The latest developments in AI research include advancements in machine learning (ML), natural language processing (NLP), and computer vision, enabling AI to perform complex tasks such as medical diagnoses, powering autonomous vehicles, and personalizing user experiences. A significant area of progress is generative AI, particularly with Large Language Models (LLMs). Meta's release of Llama 4, including models like Scout and Maverick, demonstrates reduced political bias and the ability to process diverse data types like text, video, images, and audio. AI algorithms are also being used to process vast datasets, providing insights for strategic planning and resource allocation, which streamlines decision-making and allows engineers to focus on innovation and complex problem-solving.\n"
     ]
    }
   ],
   "source": [
    "initial_question = \"What are the latest developments in AI research?\"\n",
    "events = graph.stream(\n",
    "    {\"messages\": [HumanMessage(content=initial_question)]},\n",
    "    stream_mode=\"values\"\n",
    ")\n",
    "event_arr=[]\n",
    "for event in events:\n",
    "    print(\"\\n\" + \"=\"*40)\n",
    "    print(\"Current State:\")\n",
    "    # We can inspect the full state object as it flows through the graph\n",
    "    print(event)\n",
    "    event_arr.append(event)\n",
    "print(event_arr[-1]['messages'][-1].content)\n"
   ]
  },
  {
   "cell_type": "code",
   "execution_count": null,
   "id": "0b1ff695",
   "metadata": {},
   "outputs": [],
   "source": []
  }
 ],
 "metadata": {
  "kernelspec": {
   "display_name": "venv",
   "language": "python",
   "name": "python3"
  },
  "language_info": {
   "codemirror_mode": {
    "name": "ipython",
    "version": 3
   },
   "file_extension": ".py",
   "mimetype": "text/x-python",
   "name": "python",
   "nbconvert_exporter": "python",
   "pygments_lexer": "ipython3",
   "version": "3.12.3"
  }
 },
 "nbformat": 4,
 "nbformat_minor": 5
}
