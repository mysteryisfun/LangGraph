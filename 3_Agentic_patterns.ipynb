{
 "cells": [
  {
   "cell_type": "code",
   "execution_count": 5,
   "id": "4636b0e8",
   "metadata": {},
   "outputs": [],
   "source": [
    "import os\n",
    "from typing import TypedDict, Annotated\n",
    "from langchain_google_genai import GoogleGenerativeAI\n",
    "from langchain_core.messages import AnyMessage, HumanMessage, AIMessage\n",
    "from langgraph.graph import StateGraph, END\n",
    "from langgraph.graph.message import add_messages\n",
    "from dotenv import load_dotenv\n",
    "load_dotenv()\n",
    "from langchain_community.tools.tavily_search import TavilySearchResults\n",
    "google_api_key = os.getenv(\"GOOGLE_API_KEY\")\n",
    "tool=TavilySearchResults(max_results=2)\n",
    "\n",
    "tools = [tool]"
   ]
  },
  {
   "cell_type": "code",
   "execution_count": 31,
   "id": "e4d60c94",
   "metadata": {},
   "outputs": [],
   "source": [
    "import os\n",
    "from typing import TypedDict, Annotated, List\n",
    "from langchain_google_genai import ChatGoogleGenerativeAI\n",
    "from langchain_core.messages import BaseMessage, HumanMessage\n",
    "from langgraph.graph import StateGraph, END\n",
    "from langgraph.graph.message import add_messages\n",
    "from langgraph.prebuilt import ToolNode\n",
    "from langchain_community.tools.tavily_search import TavilySearchResults\n",
    "\n",
    "search_tool = TavilySearchResults(max_results=2, name=\"tavily_search\")\n",
    "tools = [search_tool]\n",
    "\n",
    "\n",
    "class AgentState(TypedDict):\n",
    "    messages: Annotated[List[BaseMessage], add_messages]\n",
    "\n",
    "model = ChatGoogleGenerativeAI(model=\"gemini-2.0-flash\", temperature=0)\n",
    "\n",
    "def call_model(state: AgentState):\n",
    "    \"\"\"The 'agent' node: calls the model to decide the next action.\"\"\"\n",
    "    print(\"---AGENT: CALLING MODEL---\")\n",
    "    messages = state['messages']\n",
    "\n",
    "    response = model.invoke(messages, tools=tools)\n",
    "    # The response, which may contain tool calls, is returned to be added to the state\n",
    "    return {\"messages\": [response]}\n",
    "\n",
    "tool_node = ToolNode(tools)\n",
    "\n",
    "# --- 4. DEFINE ROUTER (CONDITIONAL EDGE) ---\n",
    "\n",
    "def should_continue(state: AgentState) -> str:\n",
    "    \"\"\"\n",
    "    Router logic: Inspects the last message to see if it contains tool calls.\n",
    "    This function is made more robust by using `getattr` to safely access\n",
    "    the .tool_calls attribute.\n",
    "    \"\"\"\n",
    "    print(\"---ROUTER: CHECKING FOR NEXT STEP---\")\n",
    "    last_message = state['messages'][-1]\n",
    "    \n",
    "    # Safely check for tool_calls attribute\n",
    "    if getattr(last_message, \"tool_calls\", None):\n",
    "        print(\">>> Decision: Tool call detected, routing to action.\")\n",
    "        return \"action\"\n",
    "    else:\n",
    "        print(\">>> Decision: No tool call, routing to end.\")\n",
    "        return \"end\"\n",
    "\n",
    "# --- 5. CONSTRUCT THE GRAPH ---\n",
    "# The graph structure is identical to before\n",
    "\n",
    "graph_builder = StateGraph(AgentState)\n",
    "\n",
    "# Add the two nodes we defined: the agent and the tool executor\n",
    "graph_builder.add_node(\"agent\", call_model)\n",
    "graph_builder.add_node(\"action\", tool_node)\n",
    "\n",
    "# The agent node is our entry point\n",
    "graph_builder.set_entry_point(\"agent\")\n",
    "\n",
    "# Add the conditional edge for routing\n",
    "graph_builder.add_conditional_edges(\n",
    "    \"agent\",\n",
    "    should_continue,\n",
    "    {\n",
    "        \"action\": \"action\",\n",
    "        \"end\": END,\n",
    "    },\n",
    ")\n",
    "\n",
    "# The action node loops back to the agent node\n",
    "graph_builder.add_edge(\"action\", \"agent\")\n",
    "\n",
    "graph = graph_builder.compile()\n",
    "\n",
    "\n"
   ]
  },
  {
   "cell_type": "markdown",
   "id": "24d21f10",
   "metadata": {},
   "source": [
    "### Without memory"
   ]
  },
  {
   "cell_type": "code",
   "execution_count": 32,
   "id": "1fad7b57",
   "metadata": {},
   "outputs": [
    {
     "name": "stdout",
     "output_type": "stream",
     "text": [
      "---AGENT: CALLING MODEL---\n",
      "---ROUTER: CHECKING FOR NEXT STEP---\n",
      ">>> Decision: Tool call detected, routing to action.\n",
      "\n",
      "---\n",
      "\n",
      "{'agent': {'messages': [AIMessage(content='', additional_kwargs={'function_call': {'name': 'tavily_search', 'arguments': '{\"query\": \"nvidia stock price\"}'}}, response_metadata={'prompt_feedback': {'block_reason': 0, 'safety_ratings': []}, 'finish_reason': 'STOP', 'model_name': 'gemini-2.0-flash', 'safety_ratings': []}, id='run--363017c9-f15e-4875-b778-772f995f0658-0', tool_calls=[{'name': 'tavily_search', 'args': {'query': 'nvidia stock price'}, 'id': '83eca96d-e5e1-4d25-9752-66969433c952', 'type': 'tool_call'}], usage_metadata={'input_tokens': 61, 'output_tokens': 8, 'total_tokens': 69, 'input_token_details': {'cache_read': 0}})]}}\n",
      "\n",
      "---\n",
      "\n",
      "{'action': {'messages': [ToolMessage(content='[{\"title\": \"NVIDIA - 26 Year Stock Price History | NVDA - Macrotrends\", \"url\": \"https://www.macrotrends.net/stocks/charts/NVDA/nvidia/stock-price-history\", \"content\": \"Historical daily share price chart and data for NVIDIA since 1999 adjusted for splits and dividends. The latest closing stock price for NVIDIA as of June 24, 2025 is 147.90. \\\\n   The all-time high NVIDIA stock closing price was 149.41 on January 06, 2025.\\\\n   The NVIDIA 52-week high stock price is 153.13, which is 3.5% above the current share price.\\\\n   The NVIDIA 52-week low stock price is 86.62, which is 41.4% below the current share price.\", \"score\": 0.92825955}, {\"title\": \"Stock Quote & Chart - NVIDIA Corporation\", \"url\": \"https://investor.nvidia.com/stock-info/stock-quote-and-chart/default.aspx\", \"content\": \"XNAS:NVDA,NASD:NVDA historical stock data| Stock Date | Stock Price |\\\\n| --- | --- |\\\\n| July 17, 2025 | $173 |\\\\n| July 16, 2025 | $171.37 |\\\\n| July 15, 2025 | $170.7 |\\\\n| July 14, 2025 | $164.07 |\\\\n| July 11, 2025 | $164.92 |\\\\n| July 10, 2025 | $164.1 |\\\\n| July 09, 2025 | $162.88 |\\\\n| July 08, 2025 | $160 |\\\\n| July 07, 2025 | $158.24 |\\\\n| July 03, 2025 | $159.34 |\\\\n| July 02, 2025 | $157.25 |\\\\n| July 01, 2025 | $153.3 |\\\\n| June 30, 2025 | $157.99 |\\\\n| June 27, 2025 | $157.75 |\\\\n| June 26, 2025 | $155.02 | [...] | March 14, 2025 | $121.67 |\\\\n| March 13, 2025 | $115.58 |\\\\n| March 12, 2025 | $115.74 |\\\\n| March 11, 2025 | $108.76 |\\\\n| March 10, 2025 | $106.98 |\\\\n| March 07, 2025 | $112.69 |\\\\n| March 06, 2025 | $110.57 |\\\\n| March 05, 2025 | $117.3 |\\\\n| March 04, 2025 | $115.99 |\\\\n| March 03, 2025 | $114.06 |\\\\n| February 28, 2025 | $124.92 |\\\\n| February 27, 2025 | $120.15 |\\\\n| February 26, 2025 | $131.28 |\\\\n| February 25, 2025 | $126.63 |\\\\n| February 24, 2025 | $130.28 |\\\\n| February 21, 2025 | $134.43 | [...] | April 08, 2025 | $96.3 |\\\\n| April 07, 2025 | $97.64 |\\\\n| April 04, 2025 | $94.31 |\\\\n| April 03, 2025 | $101.8 |\\\\n| April 02, 2025 | $110.42 |\\\\n| April 01, 2025 | $110.15 |\\\\n| March 31, 2025 | $108.38 |\\\\n| March 28, 2025 | $109.67 |\\\\n| March 27, 2025 | $111.43 |\\\\n| March 26, 2025 | $113.76 |\\\\n| March 25, 2025 | $120.69 |\\\\n| March 24, 2025 | $121.41 |\\\\n| March 21, 2025 | $117.7 |\\\\n| March 20, 2025 | $118.53 |\\\\n| March 19, 2025 | $117.52 |\\\\n| March 18, 2025 | $115.43 |\\\\n| March 17, 2025 | $119.53 |\", \"score\": 0.9245858}]', name='tavily_search', id='efaa1f2c-1a84-402b-8000-95ef76e6d7b5', tool_call_id='83eca96d-e5e1-4d25-9752-66969433c952', artifact={'query': 'nvidia stock price', 'follow_up_questions': None, 'answer': None, 'images': [], 'results': [{'url': 'https://www.macrotrends.net/stocks/charts/NVDA/nvidia/stock-price-history', 'title': 'NVIDIA - 26 Year Stock Price History | NVDA - Macrotrends', 'content': 'Historical daily share price chart and data for NVIDIA since 1999 adjusted for splits and dividends. The latest closing stock price for NVIDIA as of June 24, 2025 is 147.90. \\n   The all-time high NVIDIA stock closing price was 149.41 on January 06, 2025.\\n   The NVIDIA 52-week high stock price is 153.13, which is 3.5% above the current share price.\\n   The NVIDIA 52-week low stock price is 86.62, which is 41.4% below the current share price.', 'score': 0.92825955, 'raw_content': None}, {'url': 'https://investor.nvidia.com/stock-info/stock-quote-and-chart/default.aspx', 'title': 'Stock Quote & Chart - NVIDIA Corporation', 'content': 'XNAS:NVDA,NASD:NVDA historical stock data| Stock Date | Stock Price |\\n| --- | --- |\\n| July 17, 2025 | $173 |\\n| July 16, 2025 | $171.37 |\\n| July 15, 2025 | $170.7 |\\n| July 14, 2025 | $164.07 |\\n| July 11, 2025 | $164.92 |\\n| July 10, 2025 | $164.1 |\\n| July 09, 2025 | $162.88 |\\n| July 08, 2025 | $160 |\\n| July 07, 2025 | $158.24 |\\n| July 03, 2025 | $159.34 |\\n| July 02, 2025 | $157.25 |\\n| July 01, 2025 | $153.3 |\\n| June 30, 2025 | $157.99 |\\n| June 27, 2025 | $157.75 |\\n| June 26, 2025 | $155.02 | [...] | March 14, 2025 | $121.67 |\\n| March 13, 2025 | $115.58 |\\n| March 12, 2025 | $115.74 |\\n| March 11, 2025 | $108.76 |\\n| March 10, 2025 | $106.98 |\\n| March 07, 2025 | $112.69 |\\n| March 06, 2025 | $110.57 |\\n| March 05, 2025 | $117.3 |\\n| March 04, 2025 | $115.99 |\\n| March 03, 2025 | $114.06 |\\n| February 28, 2025 | $124.92 |\\n| February 27, 2025 | $120.15 |\\n| February 26, 2025 | $131.28 |\\n| February 25, 2025 | $126.63 |\\n| February 24, 2025 | $130.28 |\\n| February 21, 2025 | $134.43 | [...] | April 08, 2025 | $96.3 |\\n| April 07, 2025 | $97.64 |\\n| April 04, 2025 | $94.31 |\\n| April 03, 2025 | $101.8 |\\n| April 02, 2025 | $110.42 |\\n| April 01, 2025 | $110.15 |\\n| March 31, 2025 | $108.38 |\\n| March 28, 2025 | $109.67 |\\n| March 27, 2025 | $111.43 |\\n| March 26, 2025 | $113.76 |\\n| March 25, 2025 | $120.69 |\\n| March 24, 2025 | $121.41 |\\n| March 21, 2025 | $117.7 |\\n| March 20, 2025 | $118.53 |\\n| March 19, 2025 | $117.52 |\\n| March 18, 2025 | $115.43 |\\n| March 17, 2025 | $119.53 |', 'score': 0.9245858, 'raw_content': None}], 'response_time': 2.29})]}}\n",
      "---AGENT: CALLING MODEL---\n",
      "---ROUTER: CHECKING FOR NEXT STEP---\n",
      ">>> Decision: No tool call, routing to end.\n",
      "\n",
      "---\n",
      "\n",
      "{'agent': {'messages': [AIMessage(content='As of July 17, 2025, the price of NVIDIA stock is $173.', additional_kwargs={}, response_metadata={'prompt_feedback': {'block_reason': 0, 'safety_ratings': []}, 'finish_reason': 'STOP', 'model_name': 'gemini-2.0-flash', 'safety_ratings': []}, id='run--99158e95-f76c-4a1a-a997-fb88c0970348-0', usage_metadata={'input_tokens': 1320, 'output_tokens': 25, 'total_tokens': 1345, 'input_token_details': {'cache_read': 0}})]}}\n"
     ]
    }
   ],
   "source": [
    "events = graph.stream(\n",
    "    {\"messages\": HumanMessage(content=\"what is the current price of nvidia stock?\")},\n",
    ")\n",
    "for event in events:\n",
    "    print(\"\\n---\\n\")\n",
    "    # The event gives us visibility into which node is running\n",
    "    # and what its output is.\n",
    "    print(event)"
   ]
  },
  {
   "cell_type": "markdown",
   "id": "0d0e52c0",
   "metadata": {},
   "source": [
    "### Adding Memeroy"
   ]
  },
  {
   "cell_type": "code",
   "execution_count": null,
   "id": "fe41791e",
   "metadata": {},
   "outputs": [
    {
     "ename": "ModuleNotFoundError",
     "evalue": "No module named 'langgraph.checkpointer'",
     "output_type": "error",
     "traceback": [
      "\u001b[31m---------------------------------------------------------------------------\u001b[39m",
      "\u001b[31mModuleNotFoundError\u001b[39m                       Traceback (most recent call last)",
      "\u001b[36mCell\u001b[39m\u001b[36m \u001b[39m\u001b[32mIn[33]\u001b[39m\u001b[32m, line 1\u001b[39m\n\u001b[32m----> \u001b[39m\u001b[32m1\u001b[39m \u001b[38;5;28;01mfrom\u001b[39;00m\u001b[38;5;250m \u001b[39m\u001b[34;01mlanggraph\u001b[39;00m\u001b[34;01m.\u001b[39;00m\u001b[34;01mcheckpointer\u001b[39;00m\u001b[34;01m.\u001b[39;00m\u001b[34;01mmemory\u001b[39;00m\u001b[38;5;250m \u001b[39m\u001b[38;5;28;01mimport\u001b[39;00m MemoryCheckpointer\n",
      "\u001b[31mModuleNotFoundError\u001b[39m: No module named 'langgraph.checkpointer'"
     ]
    }
   ],
   "source": [
    "from langgraph.checkpoint.memory import MemorySaver\n",
    "\n",
    "memory=MemorySaver()\n",
    "\n",
    "graph=graph_builder.compile(checkpointer=memory)\n",
    "\n",
    "config={\n",
    "    {\"configurable\":{\"threat_id\":\"user-123\"}}\n",
    "}\n",
    "\n"
   ]
  },
  {
   "cell_type": "code",
   "execution_count": null,
   "id": "b8a63117",
   "metadata": {},
   "outputs": [],
   "source": []
  }
 ],
 "metadata": {
  "kernelspec": {
   "display_name": "venv",
   "language": "python",
   "name": "python3"
  },
  "language_info": {
   "codemirror_mode": {
    "name": "ipython",
    "version": 3
   },
   "file_extension": ".py",
   "mimetype": "text/x-python",
   "name": "python",
   "nbconvert_exporter": "python",
   "pygments_lexer": "ipython3",
   "version": "3.12.3"
  }
 },
 "nbformat": 4,
 "nbformat_minor": 5
}
